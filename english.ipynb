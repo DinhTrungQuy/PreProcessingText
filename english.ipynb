{
 "cells": [
  {
   "cell_type": "code",
   "execution_count": 15,
   "metadata": {},
   "outputs": [
    {
     "name": "stderr",
     "output_type": "stream",
     "text": [
      "[nltk_data] Downloading package punkt to\n",
      "[nltk_data]     C:\\Users\\Lecy\\AppData\\Roaming\\nltk_data...\n",
      "[nltk_data]   Package punkt is already up-to-date!\n"
     ]
    },
    {
     "data": {
      "text/plain": [
       "True"
      ]
     },
     "execution_count": 15,
     "metadata": {},
     "output_type": "execute_result"
    }
   ],
   "source": [
    "#Tải bộ tokenizers punkt\n",
    "import nltk\n",
    "nltk.download('punkt') "
   ]
  },
  {
   "cell_type": "code",
   "execution_count": 16,
   "metadata": {},
   "outputs": [],
   "source": [
    "# Khai báo chuỗi cần xử lý\n",
    "text = \"\"\"Inulinases are used for the production of high-fructose syrup and fructooligosaccharides, and are widely utilized in food and pharmaceutical industries. In this study, different carbon sources were screened for inulinase production by Aspergillus niger in shake flask fermentation. Optimum working conditions of the enzyme were determined. Additionally, some properties of produced enzyme were determined [activation (Ea)/inactivation (Eia) energies, Q10 value, inactivation rate constant (kd), half-life (t1/2), D value, Z value, enthalpy (ΔH), free energy (ΔG), and entropy (ΔS)]. Results showed that sugar beet molasses (SBM) was the best in the production of inulinase, which gave 383.73 U/mL activity at 30 °C, 200 rpm and initial pH 5.0 for 10 days with 2% (v/v) of the prepared spore solution. Optimum working conditions were 4.8 pH, 60 °C, and 10 min, which yielded 604.23 U/mL, 1.09 inulinase/sucrase ratio, and 2924.39 U/mg. Additionally, Ea and Eia of inulinase reaction were 37.30 and 112.86 kJ/mol, respectively. Beyond 60 °C, Q10 values of inulinase dropped below one. At 70 and 80 °C, t1/2 of inulinase was 33.6 and 7.2 min; therefore, inulinase is unstable at high temperatures, respectively. Additionally, t1/2, D, ΔH, ΔG values of inulinase decreased with the increase in temperature. Z values of inulinase were 7.21 °C. Negative values of ΔS showed that enzymes underwent a significant process of aggregation during denaturation. Consequently, SBM is a promising carbon source for inulinase production by A. niger. Also, this is the first report on the determination of some properties of A. niger A42 (ATCC 204,447) inulinase.\"\"\""
   ]
  },
  {
   "cell_type": "code",
   "execution_count": 17,
   "metadata": {},
   "outputs": [
    {
     "name": "stdout",
     "output_type": "stream",
     "text": [
      "inulinases are used for the production of high-fructose syrup and fructooligosaccharides, and are widely utilized in food and pharmaceutical industries. in this study, different carbon sources were screened for inulinase production by aspergillus niger in shake flask fermentation. optimum working conditions of the enzyme were determined. additionally, some properties of produced enzyme were determined [activation (ea)/inactivation (eia) energies, q10 value, inactivation rate constant (kd), half-life (t1/2), d value, z value, enthalpy (δh), free energy (δg), and entropy (δs)]. results showed that sugar beet molasses (sbm) was the best in the production of inulinase, which gave 383.73 u/ml activity at 30 °c, 200 rpm and initial ph 5.0 for 10 days with 2% (v/v) of the prepared spore solution. optimum working conditions were 4.8 ph, 60 °c, and 10 min, which yielded 604.23 u/ml, 1.09 inulinase/sucrase ratio, and 2924.39 u/mg. additionally, ea and eia of inulinase reaction were 37.30 and 112.86 kj/mol, respectively. beyond 60 °c, q10 values of inulinase dropped below one. at 70 and 80 °c, t1/2 of inulinase was 33.6 and 7.2 min; therefore, inulinase is unstable at high temperatures, respectively. additionally, t1/2, d, δh, δg values of inulinase decreased with the increase in temperature. z values of inulinase were 7.21 °c. negative values of δs showed that enzymes underwent a significant process of aggregation during denaturation. consequently, sbm is a promising carbon source for inulinase production by a. niger. also, this is the first report on the determination of some properties of a. niger a42 (atcc 204,447) inulinase.\n"
     ]
    }
   ],
   "source": [
    "#Chuẩn hóa text: viết thường,\n",
    "text = text.lower()\n",
    "print(text)"
   ]
  },
  {
   "cell_type": "code",
   "execution_count": 18,
   "metadata": {},
   "outputs": [
    {
     "name": "stdout",
     "output_type": "stream",
     "text": [
      "inulinases are used for the production of high-fructose syrup and fructooligosaccharides, and are widely utilized in food and pharmaceutical industries.\n",
      "in this study, different carbon sources were screened for inulinase production by aspergillus niger in shake flask fermentation.\n",
      "optimum working conditions of the enzyme were determined.\n",
      "additionally, some properties of produced enzyme were determined [activation (ea)/inactivation (eia) energies, q10 value, inactivation rate constant (kd), half-life (t1/2), d value, z value, enthalpy (δh), free energy (δg), and entropy (δs)].\n",
      "results showed that sugar beet molasses (sbm) was the best in the production of inulinase, which gave 383.73 u/ml activity at 30 °c, 200 rpm and initial ph 5.0 for 10 days with 2% (v/v) of the prepared spore solution.\n",
      "optimum working conditions were 4.8 ph, 60 °c, and 10 min, which yielded 604.23 u/ml, 1.09 inulinase/sucrase ratio, and 2924.39 u/mg.\n",
      "additionally, ea and eia of inulinase reaction were 37.30 and 112.86 kj/mol, respectively.\n",
      "beyond 60 °c, q10 values of inulinase dropped below one.\n",
      "at 70 and 80 °c, t1/2 of inulinase was 33.6 and 7.2 min; therefore, inulinase is unstable at high temperatures, respectively.\n",
      "additionally, t1/2, d, δh, δg values of inulinase decreased with the increase in temperature.\n",
      "z values of inulinase were 7.21 °c.\n",
      "negative values of δs showed that enzymes underwent a significant process of aggregation during denaturation.\n",
      "consequently, sbm is a promising carbon source for inulinase production by a. niger.\n",
      "also, this is the first report on the determination of some properties of a. niger a42 (atcc 204,447) inulinase.\n"
     ]
    }
   ],
   "source": [
    "\n",
    "# Tách văn bản thành các câu\n",
    "from nltk.tokenize import sent_tokenize\n",
    "sentences = sent_tokenize(text, language='english') \n",
    "for sentence in sentences:\n",
    "    print(sentence)\n"
   ]
  },
  {
   "cell_type": "code",
   "execution_count": 19,
   "metadata": {},
   "outputs": [
    {
     "name": "stdout",
     "output_type": "stream",
     "text": [
      "inulinases are used for the production of highfructose syrup and fructooligosaccharides and are widely utilized in food and pharmaceutical industries in this study different carbon sources were screened for inulinase production by aspergillus niger in shake flask fermentation optimum working conditions of the enzyme were determined additionally some properties of produced enzyme were determined activation eainactivation eia energies q10 value inactivation rate constant kd halflife t12 d value z value enthalpy δh free energy δg and entropy δs results showed that sugar beet molasses sbm was the best in the production of inulinase which gave 38373 uml activity at 30 c 200 rpm and initial ph 50 for 10 days with 2 vv of the prepared spore solution optimum working conditions were 48 ph 60 c and 10 min which yielded 60423 uml 109 inulinasesucrase ratio and 292439 umg additionally ea and eia of inulinase reaction were 3730 and 11286 kjmol respectively beyond 60 c q10 values of inulinase dropped below one at 70 and 80 c t12 of inulinase was 336 and 72 min therefore inulinase is unstable at high temperatures respectively additionally t12 d δh δg values of inulinase decreased with the increase in temperature z values of inulinase were 721 c negative values of δs showed that enzymes underwent a significant process of aggregation during denaturation consequently sbm is a promising carbon source for inulinase production by a niger also this is the first report on the determination of some properties of a niger a42 atcc 204447 inulinase\n"
     ]
    }
   ],
   "source": [
    "# Loại bỏ dấu câu\n",
    "import re\n",
    "\n",
    "\n",
    "def remove_punctuation(text):\n",
    "    text_without_punctuation = re.sub(r\"[^\\w\\s]\", \"\", text)\n",
    "    return text_without_punctuation\n",
    "\n",
    "\n",
    "text = remove_punctuation(text)\n",
    "print(text)"
   ]
  },
  {
   "cell_type": "code",
   "execution_count": 20,
   "metadata": {},
   "outputs": [
    {
     "name": "stdout",
     "output_type": "stream",
     "text": [
      "are for the production of and and are in and in this carbon were for inulinase production by niger in optimum working conditions of the enzyme were determined additionally some properties of enzyme were determined eia q10 value t12 d value z value δh δg and δs showed that sbm was the in the production of inulinase which uml at c and ph for 10 with of the optimum working conditions were ph 60 c and 10 min which uml and additionally and eia of inulinase were and respectively 60 c q10 values of inulinase at and c t12 of inulinase was and min inulinase is at respectively additionally t12 d δh δg values of inulinase with the in z values of inulinase were c values of δs showed that a of sbm is a carbon for inulinase production by a niger this is the the of some properties of a niger inulinase\n"
     ]
    }
   ],
   "source": [
    "#Loại bỏ từ hiếm tránh overfitting trong các tác vụ học máy\n",
    "from collections import Counter\n",
    "\n",
    "def remove_rare_words(text, threshold=5):\n",
    "    words = nltk.word_tokenize(text)\n",
    "    word_freq = Counter(words)\n",
    "    \n",
    "    filtered_words = [word for word in words if word_freq[word] >= threshold]\n",
    "    \n",
    "    return ' '.join(filtered_words)\n",
    "\n",
    "text = remove_rare_words(text, threshold=2)\n",
    "print(text)"
   ]
  },
  {
   "cell_type": "code",
   "execution_count": 21,
   "metadata": {},
   "outputs": [
    {
     "name": "stdout",
     "output_type": "stream",
     "text": [
      "['are', 'for', 'the', 'production', 'of', 'and', 'and', 'are', 'in', 'and', 'in', 'this', 'carbon', 'were', 'for', 'inulinase', 'production', 'by', 'niger', 'in', 'optimum', 'working', 'conditions', 'of', 'the', 'enzyme', 'were', 'determined', 'additionally', 'some', 'properties', 'of', 'enzyme', 'were', 'determined', 'eia', 'q10', 'value', 't12', 'd', 'value', 'z', 'value', 'δh', 'δg', 'and', 'δs', 'showed', 'that', 'sbm', 'was', 'the', 'in', 'the', 'production', 'of', 'inulinase', 'which', 'uml', 'at', 'c', 'and', 'ph', 'for', '10', 'with', 'of', 'the', 'optimum', 'working', 'conditions', 'were', 'ph', '60', 'c', 'and', '10', 'min', 'which', 'uml', 'and', 'additionally', 'and', 'eia', 'of', 'inulinase', 'were', 'and', 'respectively', '60', 'c', 'q10', 'values', 'of', 'inulinase', 'at', 'and', 'c', 't12', 'of', 'inulinase', 'was', 'and', 'min', 'inulinase', 'is', 'at', 'respectively', 'additionally', 't12', 'd', 'δh', 'δg', 'values', 'of', 'inulinase', 'with', 'the', 'in', 'z', 'values', 'of', 'inulinase', 'were', 'c', 'values', 'of', 'δs', 'showed', 'that', 'a', 'of', 'sbm', 'is', 'a', 'carbon', 'for', 'inulinase', 'production', 'by', 'a', 'niger', 'this', 'is', 'the', 'the', 'of', 'some', 'properties', 'of', 'a', 'niger', 'inulinase']\n"
     ]
    }
   ],
   "source": [
    "# Tách từ trong câu\n",
    "tokens = nltk.word_tokenize(text)\n",
    "print(tokens)    "
   ]
  },
  {
   "cell_type": "code",
   "execution_count": 22,
   "metadata": {},
   "outputs": [
    {
     "name": "stdout",
     "output_type": "stream",
     "text": [
      "['production', 'carbon', 'inulinase', 'production', 'niger', 'optimum', 'working', 'conditions', 'enzyme', 'determined', 'additionally', 'properties', 'enzyme', 'determined', 'eia', 'q10', 'value', 't12', 'value', 'z', 'value', 'δh', 'δg', 'δs', 'showed', 'sbm', 'production', 'inulinase', 'uml', 'c', 'ph', '10', 'optimum', 'working', 'conditions', 'ph', '60', 'c', '10', 'min', 'uml', 'additionally', 'eia', 'inulinase', 'respectively', '60', 'c', 'q10', 'values', 'inulinase', 'c', 't12', 'inulinase', 'min', 'inulinase', 'respectively', 'additionally', 't12', 'δh', 'δg', 'values', 'inulinase', 'z', 'values', 'inulinase', 'c', 'values', 'δs', 'showed', 'sbm', 'carbon', 'inulinase', 'production', 'niger', 'properties', 'niger', 'inulinase']\n"
     ]
    }
   ],
   "source": [
    "#Loại bỏ stopwords\n",
    "from nltk.corpus import stopwords\n",
    "stop_words = set(stopwords.words('english'))\n",
    "\n",
    "filtered_tokens = [token for token in tokens if token not in stop_words]\n",
    "print(filtered_tokens)        "
   ]
  },
  {
   "cell_type": "code",
   "execution_count": 23,
   "metadata": {},
   "outputs": [
    {
     "name": "stdout",
     "output_type": "stream",
     "text": [
      "['product', 'carbon', 'inulinas', 'product', 'niger', 'optimum', 'work', 'condit', 'enzym', 'determin', 'addit', 'properti', 'enzym', 'determin', 'eia', 'q10', 'valu', 't12', 'valu', 'z', 'valu', 'δh', 'δg', 'δs', 'show', 'sbm', 'product', 'inulinas', 'uml', 'c', 'ph', '10', 'optimum', 'work', 'condit', 'ph', '60', 'c', '10', 'min', 'uml', 'addit', 'eia', 'inulinas', 'respect', '60', 'c', 'q10', 'valu', 'inulinas', 'c', 't12', 'inulinas', 'min', 'inulinas', 'respect', 'addit', 't12', 'δh', 'δg', 'valu', 'inulinas', 'z', 'valu', 'inulinas', 'c', 'valu', 'δs', 'show', 'sbm', 'carbon', 'inulinas', 'product', 'niger', 'properti', 'niger', 'inulinas']\n"
     ]
    }
   ],
   "source": [
    "#Stemming token\n",
    "from nltk.stem import PorterStemmer\n",
    "stemmer = PorterStemmer()\n",
    "\n",
    "# Stem tokens using PorterStemmer\n",
    "stemmed_tokens = [stemmer.stem(token) for token in filtered_tokens]\n",
    "print(stemmed_tokens)   "
   ]
  },
  {
   "cell_type": "code",
   "execution_count": 24,
   "metadata": {},
   "outputs": [
    {
     "name": "stdout",
     "output_type": "stream",
     "text": [
      "['production', 'carbon', 'inulinase', 'production', 'niger', 'optimum', 'working', 'condition', 'enzyme', 'determined', 'additionally', 'property', 'enzyme', 'determined', 'eia', 'q10', 'value', 't12', 'value', 'z', 'value', 'δh', 'δg', 'δs', 'showed', 'sbm', 'production', 'inulinase', 'uml', 'c', 'ph', '10', 'optimum', 'working', 'condition', 'ph', '60', 'c', '10', 'min', 'uml', 'additionally', 'eia', 'inulinase', 'respectively', '60', 'c', 'q10', 'value', 'inulinase', 'c', 't12', 'inulinase', 'min', 'inulinase', 'respectively', 'additionally', 't12', 'δh', 'δg', 'value', 'inulinase', 'z', 'value', 'inulinase', 'c', 'value', 'δs', 'showed', 'sbm', 'carbon', 'inulinase', 'production', 'niger', 'property', 'niger', 'inulinase']\n"
     ]
    }
   ],
   "source": [
    "#Lemming token\n",
    "from nltk.stem import WordNetLemmatizer\n",
    "lemmatizer = WordNetLemmatizer()\n",
    "lemmed_tokens = [lemmatizer.lemmatize(token) for token in filtered_tokens]\n",
    "print(lemmed_tokens)"
   ]
  }
 ],
 "metadata": {
  "kernelspec": {
   "display_name": "Python 3",
   "language": "python",
   "name": "python3"
  },
  "language_info": {
   "codemirror_mode": {
    "name": "ipython",
    "version": 3
   },
   "file_extension": ".py",
   "mimetype": "text/x-python",
   "name": "python",
   "nbconvert_exporter": "python",
   "pygments_lexer": "ipython3",
   "version": "3.11.7"
  }
 },
 "nbformat": 4,
 "nbformat_minor": 2
}
