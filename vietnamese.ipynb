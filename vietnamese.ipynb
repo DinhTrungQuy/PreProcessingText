{
 "cells": [
  {
   "cell_type": "code",
   "execution_count": 2,
   "metadata": {},
   "outputs": [],
   "source": [
    "# Khai báo chuỗi cần xử lý\n",
    "text = \"\"\"Việc Man City kiểm soát bóng vượt trội và hệ thống lùi quanh vòng cấm của Man Utd chính là sự lựa chọn chiến thuật của Erik ten Hag. Sau trận, chính HLV người Hà Lan khẳng định \"Quỷ đỏ\" thực hiện đúng kế hoạch và đá tốt trong hiệp một.\"\"\""
   ]
  },
  {
   "cell_type": "code",
   "execution_count": 3,
   "metadata": {},
   "outputs": [
    {
     "name": "stdout",
     "output_type": "stream",
     "text": [
      "việc man city kiểm soát bóng vượt trội và hệ thống lùi quanh vòng cấm của man utd chính là sự lựa chọn chiến thuật của erik ten hag. sau trận, chính hlv người hà lan khẳng định \"quỷ đỏ\" thực hiện đúng kế hoạch và đá tốt trong hiệp một.\n"
     ]
    }
   ],
   "source": [
    "# Chuẩn hóa text: viết thường, đưa text về utf-8\n",
    "\n",
    "\n",
    "import regex as re\n",
    "\n",
    "uniChars = \"àáảãạâầấẩẫậăằắẳẵặèéẻẽẹêềếểễệđìíỉĩịòóỏõọôồốổỗộơờớởỡợùúủũụưừứửữựỳýỷỹỵÀÁẢÃẠÂẦẤẨẪẬĂẰẮẲẴẶÈÉẺẼẸÊỀẾỂỄỆĐÌÍỈĨỊÒÓỎÕỌÔỒỐỔỖỘƠỜỚỞỠỢÙÚỦŨỤƯỪỨỬỮỰỲÝỶỸỴÂĂĐÔƠƯ\"\n",
    "unsignChars = \"aaaaaaaaaaaaaaaaaeeeeeeeeeeediiiiiooooooooooooooooouuuuuuuuuuuyyyyyAAAAAAAAAAAAAAAAAEEEEEEEEEEEDIIIOOOOOOOOOOOOOOOOOOOUUUUUUUUUUUYYYYYAADOOU\"\n",
    "\n",
    "\n",
    "def loaddicchar():\n",
    "    dic = {}\n",
    "    char1252 = \"à|á|ả|ã|ạ|ầ|ấ|ẩ|ẫ|ậ|ằ|ắ|ẳ|ẵ|ặ|è|é|ẻ|ẽ|ẹ|ề|ế|ể|ễ|ệ|ì|í|ỉ|ĩ|ị|ò|ó|ỏ|õ|ọ|ồ|ố|ổ|ỗ|ộ|ờ|ớ|ở|ỡ|ợ|ù|ú|ủ|ũ|ụ|ừ|ứ|ử|ữ|ự|ỳ|ý|ỷ|ỹ|ỵ|À|Á|Ả|Ã|Ạ|Ầ|Ấ|Ẩ|Ẫ|Ậ|Ằ|Ắ|Ẳ|Ẵ|Ặ|È|É|Ẻ|Ẽ|Ẹ|Ề|Ế|Ể|Ễ|Ệ|Ì|Í|Ỉ|Ĩ|Ị|Ò|Ó|Ỏ|Õ|Ọ|Ồ|Ố|Ổ|Ỗ|Ộ|Ờ|Ớ|Ở|Ỡ|Ợ|Ù|Ú|Ủ|Ũ|Ụ|Ừ|Ứ|Ử|Ữ|Ự|Ỳ|Ý|Ỷ|Ỹ|Ỵ\".split(\n",
    "        \"|\"\n",
    "    )\n",
    "    charutf8 = \"à|á|ả|ã|ạ|ầ|ấ|ẩ|ẫ|ậ|ằ|ắ|ẳ|ẵ|ặ|è|é|ẻ|ẽ|ẹ|ề|ế|ể|ễ|ệ|ì|í|ỉ|ĩ|ị|ò|ó|ỏ|õ|ọ|ồ|ố|ổ|ỗ|ộ|ờ|ớ|ở|ỡ|ợ|ù|ú|ủ|ũ|ụ|ừ|ứ|ử|ữ|ự|ỳ|ý|ỷ|ỹ|ỵ|À|Á|Ả|Ã|Ạ|Ầ|Ấ|Ẩ|Ẫ|Ậ|Ằ|Ắ|Ẳ|Ẵ|Ặ|È|É|Ẻ|Ẽ|Ẹ|Ề|Ế|Ể|Ễ|Ệ|Ì|Í|Ỉ|Ĩ|Ị|Ò|Ó|Ỏ|Õ|Ọ|Ồ|Ố|Ổ|Ỗ|Ộ|Ờ|Ớ|Ở|Ỡ|Ợ|Ù|Ú|Ủ|Ũ|Ụ|Ừ|Ứ|Ử|Ữ|Ự|Ỳ|Ý|Ỷ|Ỹ|Ỵ\".split(\n",
    "        \"|\"\n",
    "    )\n",
    "    for i in range(len(char1252)):\n",
    "        dic[char1252[i]] = charutf8[i]\n",
    "    return dic\n",
    "\n",
    "\n",
    "dicchar = loaddicchar()\n",
    "\n",
    "\n",
    "def covert_unicode(txt):\n",
    "    return re.sub(\n",
    "        r\"à|á|ả|ã|ạ|ầ|ấ|ẩ|ẫ|ậ|ằ|ắ|ẳ|ẵ|ặ|è|é|ẻ|ẽ|ẹ|ề|ế|ể|ễ|ệ|ì|í|ỉ|ĩ|ị|ò|ó|ỏ|õ|ọ|ồ|ố|ổ|ỗ|ộ|ờ|ớ|ở|ỡ|ợ|ù|ú|ủ|ũ|ụ|ừ|ứ|ử|ữ|ự|ỳ|ý|ỷ|ỹ|ỵ|À|Á|Ả|Ã|Ạ|Ầ|Ấ|Ẩ|Ẫ|Ậ|Ằ|Ắ|Ẳ|Ẵ|Ặ|È|É|Ẻ|Ẽ|Ẹ|Ề|Ế|Ể|Ễ|Ệ|Ì|Í|Ỉ|Ĩ|Ị|Ò|Ó|Ỏ|Õ|Ọ|Ồ|Ố|Ổ|Ỗ|Ộ|Ờ|Ớ|Ở|Ỡ|Ợ|Ù|Ú|Ủ|Ũ|Ụ|Ừ|Ứ|Ử|Ữ|Ự|Ỳ|Ý|Ỷ|Ỹ|Ỵ\",\n",
    "        lambda x: dicchar[x.group()],\n",
    "        txt,\n",
    "    )\n",
    "\n",
    "\n",
    "text = (covert_unicode(text)).lower()\n",
    "print(text)"
   ]
  },
  {
   "cell_type": "code",
   "execution_count": null,
   "metadata": {},
   "outputs": [],
   "source": [
    "pip install underthesea"
   ]
  },
  {
   "cell_type": "code",
   "execution_count": 8,
   "metadata": {},
   "outputs": [
    {
     "name": "stdout",
     "output_type": "stream",
     "text": [
      "việc man city kiểm soát bóng vượt trội và hệ thống lùi quanh vòng cấm của man utd chính là sự lựa chọn chiến thuật của erik ten hag. sau trận, chính hlv người hà lan khẳng định \"quỷ đỏ\" thực hiện đúng kế hoạch và đá tốt trong hiệp một.\n"
     ]
    }
   ],
   "source": [
    "# Chuẩn hóa kiểu gõ dấu (tiếng Việt)\n",
    "\n",
    "from underthesea import text_normalize\n",
    "\n",
    "\n",
    "def fix_sentence(string):\n",
    "    return text_normalize(string)\n",
    "\n",
    "\n",
    "fix_sentence(text)\n",
    "print(text)"
   ]
  },
  {
   "cell_type": "code",
   "execution_count": 10,
   "metadata": {},
   "outputs": [
    {
     "name": "stdout",
     "output_type": "stream",
     "text": [
      "việc man city kiểm soát bóng vượt trội và hệ thống lùi quanh vòng cấm của man utd chính là sự lựa chọn chiến thuật của erik ten hag. sau trận, chính hlv người hà lan khẳng định \"quỷ đỏ\" thực hiện đúng kế hoạch và đá tốt trong hiệp một.\n"
     ]
    }
   ],
   "source": [
    "# Chuẩn hoá text: Loại Bỏ Ký Tự Rỗng và Dấu Cách Thừa\n",
    "import re\n",
    "\n",
    "\n",
    "def remove_extra_whitespaces(input_string):\n",
    "    trimmed_string = input_string.strip()\n",
    "    no_extra_whitespaces_string = re.sub(r\"\\s+\", \" \", trimmed_string)\n",
    "    return no_extra_whitespaces_string\n",
    "\n",
    "\n",
    "text = remove_extra_whitespaces(text)\n",
    "print(text)"
   ]
  },
  {
   "cell_type": "code",
   "execution_count": 11,
   "metadata": {},
   "outputs": [
    {
     "name": "stdout",
     "output_type": "stream",
     "text": [
      "['việc man city kiểm soát bóng vượt trội và hệ thống lùi quanh vòng cấm của man utd chính là sự lựa chọn chiến thuật của erik ten hag.', 'sau trận, chính hlv người hà lan khẳng định \"quỷ đỏ\" thực hiện đúng kế hoạch và đá tốt trong hiệp một.']\n"
     ]
    }
   ],
   "source": [
    "# Tách văn bản thành các câu\n",
    "from underthesea import sent_tokenize\n",
    "\n",
    "sentence = sent_tokenize(text)\n",
    "print(sentence)"
   ]
  },
  {
   "cell_type": "code",
   "execution_count": 13,
   "metadata": {},
   "outputs": [
    {
     "name": "stdout",
     "output_type": "stream",
     "text": [
      "việc man city kiểm soát bóng vượt trội và hệ thống lùi quanh vòng cấm của man utd chính là sự lựa chọn chiến thuật của erik ten hag sau trận chính hlv người hà lan khẳng định quỷ đỏ thực hiện đúng kế hoạch và đá tốt trong hiệp một\n"
     ]
    }
   ],
   "source": [
    "# Loại bỏ dấu câu\n",
    "import re\n",
    "\n",
    "\n",
    "def remove_punctuation(text):\n",
    "    text_without_punctuation = re.sub(r\"[^\\w\\s]\", \"\", text)\n",
    "    return text_without_punctuation\n",
    "\n",
    "\n",
    "text = remove_punctuation(text)\n",
    "print(text)"
   ]
  },
  {
   "cell_type": "code",
   "execution_count": 14,
   "metadata": {},
   "outputs": [
    {
     "name": "stdout",
     "output_type": "stream",
     "text": [
      "['việc', 'man', 'city', 'kiểm soát', 'bóng', 'vượt trội', 'và', 'hệ thống', 'lùi', 'quanh', 'vòng', 'cấm', 'của', 'man utd', 'chính', 'là', 'sự', 'lựa chọn', 'chiến thuật', 'của', 'erik', 'ten', 'hag', 'sau', 'trận', 'chính', 'hlv', 'người', 'hà lan', 'khẳng định', 'quỷ', 'đỏ', 'thực hiện', 'đúng', 'kế hoạch', 'và', 'đá', 'tốt', 'trong', 'hiệp', 'một']\n"
     ]
    }
   ],
   "source": [
    "# Tách từ trong câu\n",
    "from underthesea import word_tokenize\n",
    "\n",
    "word = word_tokenize(text)\n",
    "print(word)"
   ]
  },
  {
   "cell_type": "code",
   "execution_count": 15,
   "metadata": {},
   "outputs": [
    {
     "name": "stdout",
     "output_type": "stream",
     "text": [
      "['man', 'city', 'kiểm soát', 'bóng', 'vượt trội', 'hệ thống', 'lùi', 'quanh', 'vòng', 'cấm', 'man utd', 'lựa chọn', 'chiến thuật', 'erik', 'ten', 'hag', 'trận', 'hlv', 'hà lan', 'quỷ', 'đỏ', 'kế hoạch', 'đá', 'hiệp']\n"
     ]
    }
   ],
   "source": [
    "# Loại bỏ stopwords\n",
    "import pandas as pd\n",
    "\n",
    "df_stopwords = pd.read_csv(\"vietnamese-stopwords.txt\", header=None, names=[\"stopword\"])\n",
    "stopwords_set = set(df_stopwords[\"stopword\"])\n",
    "\n",
    "\n",
    "def remove_stopwords(text, stopwords):\n",
    "    filtered_words = [word for word in text if word not in stopwords]\n",
    "    return filtered_words\n",
    "\n",
    "\n",
    "word = remove_stopwords(word, stopwords_set)\n",
    "print(word)"
   ]
  },
  {
   "cell_type": "code",
   "execution_count": null,
   "metadata": {},
   "outputs": [],
   "source": [
    "# In ra file CSV dữ liệu đầu ra\n",
    "import pandas as pd\n",
    "\n",
    "dfs = pd.DataFrame(sentence, columns=[\"Sentence\"])\n",
    "dfw = pd.DataFrame(word, columns=[\"Word\"])\n",
    "\n",
    "dfs.to_csv(\"sentences_normalized.csv\", index=True, encoding=\"utf-8-sig\")\n",
    "dfw.to_csv(\"words_normalized.csv\", index=True, encoding=\"utf-8-sig\")"
   ]
  }
 ],
 "metadata": {
  "kernelspec": {
   "display_name": "Python 3",
   "language": "python",
   "name": "python3"
  },
  "language_info": {
   "codemirror_mode": {
    "name": "ipython",
    "version": 3
   },
   "file_extension": ".py",
   "mimetype": "text/x-python",
   "name": "python",
   "nbconvert_exporter": "python",
   "pygments_lexer": "ipython3",
   "version": "3.11.7"
  }
 },
 "nbformat": 4,
 "nbformat_minor": 2
}
